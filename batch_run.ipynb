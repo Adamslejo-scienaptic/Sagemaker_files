{
 "cells": [
  {
   "cell_type": "code",
   "execution_count": null,
   "metadata": {},
   "outputs": [],
   "source": [
    "import requests\n",
    "import csv\n",
    "import json\n",
    "import pandas as pd\n",
    "from tqdm import tqdm\n",
    "import datetime\n",
    "from dateutil import tz\n",
    "import pytz\n",
    "import dateutil.parser as parser\n",
    "#url = \"/evaluator/flow/v1/flow-42778760?tableSuffix=trial&isCompleteResponse=true\"\n",
    "url2 = \"https://uat-usa.scienaptic.com/evaluator/flow/v1/flow-157380672?tableSuffix=trial&isCompleteResponse=true\" #iris v2\n",
    "\n",
    "headers = {\n",
    "  'Content-Type': 'application/json'\n",
    "}\n",
    "\n",
    "respv1 = []\n",
    "respv2=[]\n",
    "with open(r\"C:\\Users\\adams.lejo_scienapti\\Documents\\Desktop\\Towerfcu_batch\\Tower_Uat.json\", 'r') as file:\n",
    "    data = file.readlines()"
   ]
  },
  {
   "cell_type": "code",
   "execution_count": null,
   "metadata": {},
   "outputs": [],
   "source": [
    "pbar = tqdm(data)\n",
    "for idx, line in enumerate(pbar):\n",
    "    record = json.loads(line)\n",
    "    pbar.set_description(\"Processing {}\".format(idx))\n",
    "    record = record[\"sources\"][\"values\"][\"input\"]\n",
    "    payload = {\"values\":{ \"input\" :record }}\n",
    "    payload = json.dumps(payload)\n",
    "    response = requests.request(\"POST\", url2, headers=headers, data=payload)\n",
    "    respv2.append(json.loads(response.text))"
   ]
  },
  {
   "cell_type": "code",
   "execution_count": null,
   "metadata": {},
   "outputs": [],
   "source": [
    "temp = []\n",
    "first = 0\n",
    "last = len(respv2)\n",
    "for idx,i in enumerate(respv2):\n",
    "    if first == 0:\n",
    "        temp.append(\"[\"+ str(json.dumps(i))+',\\n')\n",
    "        first +=1\n",
    "    elif last == idx + 1:\n",
    "        temp.append(str(json.dumps(i)))\n",
    "    else :\n",
    "        temp.append(str(json.dumps(i))+',\\n')\n",
    "    \n",
    "temp.append(']')\n",
    "\n",
    "textfile2 = open(r\"C:\\Users\\adams.lejo_scienapti\\Documents\\Desktop\\Towerfcu_batch\\Tower_Uat_all_response.json\", \"w\")\n",
    "\n",
    "for element in temp:\n",
    "    textfile2.write(element)\n",
    "textfile2.close()"
   ]
  },
  {
   "cell_type": "code",
   "execution_count": null,
   "metadata": {},
   "outputs": [],
   "source": [
    "import json\n",
    "with open(r'C:\\Users\\adams.lejo_scienapti\\Documents\\Desktop\\Agora_batch_run\\agora_08-12.json', 'r') as in_file:\n",
    "    data_temp= json.loads(in_file.read())\n",
    "df2 = pd.json_normalize(data_temp)\n",
    "df2.to_csv(r'C:\\Users\\adams.lejo_scienapti\\Documents\\Desktop\\Agora_batch_run\\agora_08-12.csv', index = None)"
   ]
  },
  {
   "cell_type": "code",
   "execution_count": null,
   "metadata": {},
   "outputs": [],
   "source": [
    "import json\n",
    "import pandas as pd\n",
    "import numpy as np\n",
    "pd.set_option('display.max_rows',None)\n",
    "pd.set_option('display.max_columns',None)\n",
    "pd.set_option('display.max_colwidth', None)"
   ]
  },
  {
   "cell_type": "code",
   "execution_count": null,
   "metadata": {},
   "outputs": [],
   "source": [
    "with open(r'C:\\Users\\adams.lejo_scienapti\\Documents\\Desktop\\Towerfcu_batch\\Tower_Uat.json','r') as f:\n",
    "    new_data = json.load(f)\n",
    "len(new_data)"
   ]
  },
  {
   "cell_type": "code",
   "execution_count": null,
   "metadata": {},
   "outputs": [],
   "source": [
    "sum([1 if 'input' in i['sources']['values'] else 0 for i in new_data])"
   ]
  },
  {
   "cell_type": "code",
   "execution_count": null,
   "metadata": {},
   "outputs": [],
   "source": [
    "url = \"https://uat-usa.scienaptic.com/evaluator/flow/v1/flow-453386424?tableSuffix=trial&isCompleteResponse=true\"\n",
    "headers = {\n",
    "  'Content-Type': 'application/json'\n",
    "}"
   ]
  },
  {
   "cell_type": "code",
   "execution_count": null,
   "metadata": {},
   "outputs": [],
   "source": [
    "output = []\n",
    "for idx, line in enumerate(new_data):\n",
    "    # record = json.loads(line)\n",
    "    record = line[\"sources\"][\"values\"][\"input\"]\n",
    "    payload = {\"values\":{ \"input\" :record }}\n",
    "    payload = json.dumps(payload)\n",
    "    response = requests.request(\"POST\", url, headers=headers, data=payload)\n",
    "    output.append(json.loads(response.text))"
   ]
  }
 ],
 "metadata": {
  "language_info": {
   "name": "python"
  },
  "orig_nbformat": 4
 },
 "nbformat": 4,
 "nbformat_minor": 2
}
